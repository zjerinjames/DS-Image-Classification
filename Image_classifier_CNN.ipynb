{
 "cells": [
  {
   "cell_type": "markdown",
   "metadata": {},
   "source": [
    "# Image Classification with Convolutional Neural Network: Traffic Signal Images\n"
   ]
  },
  {
   "cell_type": "code",
   "execution_count": 7,
   "metadata": {},
   "outputs": [],
   "source": [
    "import os\n",
    "import numpy as np\n",
    "import pandas as pd\n",
    "import matplotlib.pyplot as plt\n",
    "from PIL import Image\n",
    "import tensorflow as tf\n",
    "from tensorflow.keras.utils import to_categorical\n",
    "from keras.layers import Conv2D, Dense, Flatten, MaxPool2D, Dropout\n",
    "from tensorflow.keras.models import Sequential"
   ]
  },
  {
   "cell_type": "markdown",
   "metadata": {},
   "source": [
    "## Load Image data\n",
    "The dataset is obtained from [gtsrb-german-traffic-sign](https://www.kaggle.com/meowmeowmeowmeowmeow/gtsrb-german-traffic-sign).\n",
    "the images is loaded in a single list in form of an array that will describe the pixels of the image and another list which will contain labels of the corresponding image. To feed image data to the model we need to convert it into a NumPy array. \n",
    "The training dataset contains a different folder with the name of classes named 0 to 42. with the help of the os module we will iterate through each class folder and append the image and respective label to the list. we also have CSV files that contain the actual label category name."
   ]
  },
  {
   "cell_type": "code",
   "execution_count": 5,
   "metadata": {},
   "outputs": [
    {
     "name": "stdout",
     "output_type": "stream",
     "text": [
      "success\n"
     ]
    }
   ],
   "source": [
    "imgs_path = \"gtsrb-german-traffic-sign/Train\"\n",
    "data = []\n",
    "labels = []\n",
    "classes = 43\n",
    "for i in range(classes):\n",
    "    img_path = os.path.join(imgs_path, str(i)) #0-42\n",
    "    for img in os.listdir(img_path):\n",
    "        im = Image.open(img_path + '/' + img)\n",
    "        im = im.resize((30,30))\n",
    "        im = np.array(im)\n",
    "        data.append(im)\n",
    "        labels.append(i)\n",
    "data = np.array(data)\n",
    "labels = np.array(labels)\n",
    "print(\"success\")"
   ]
  },
  {
   "cell_type": "markdown",
   "metadata": {},
   "source": [
    "## Explore an Image\n",
    "We look at an image from the dataset using pillow library. "
   ]
  },
  {
   "cell_type": "code",
   "execution_count": 8,
   "metadata": {},
   "outputs": [
    {
     "data": {
      "image/png": "[encoded data removed]",
      "text/plain": [
       "<Figure size 432x288 with 1 Axes>"
      ]
     },
     "metadata": {
      "needs_background": "light"
     },
     "output_type": "display_data"
    }
   ],
   "source": [
    "path = \"gtsrb-german-traffic-sign/Train/0/00000_00004_00029.png\"\n",
    "img = Image.open(path)\n",
    "img = img.resize((30, 30))\n",
    "sr = np.array(img) \n",
    "plt.imshow(img)\n",
    "plt.show()\n",
    "#Image classification | sample image"
   ]
  },
  {
   "cell_type": "markdown",
   "metadata": {},
   "source": [
    "## Split Dataset into train and test\n",
    "'to_categorical' method to convert labels into one-hot encoding. test_size is set to 0.2"
   ]
  },
  {
   "cell_type": "code",
   "execution_count": 10,
   "metadata": {},
   "outputs": [
    {
     "name": "stdout",
     "output_type": "stream",
     "text": [
      "training shape:  (31367, 30, 30, 3) (31367,)\n",
      "testing shape:  (7842, 30, 30, 3) (7842,)\n"
     ]
    }
   ],
   "source": [
    "from sklearn.model_selection import train_test_split\n",
    "x_train, x_test, y_train, y_test = train_test_split(data, labels, test_size=0.2, random_state=42)\n",
    "print(\"training shape: \",x_train.shape, y_train.shape)\n",
    "print(\"testing shape: \",x_test.shape, y_test.shape)\n",
    "y_train = to_categorical(y_train, 43)\n",
    "y_test = to_categorical(y_test, 43)"
   ]
  },
  {
   "cell_type": "markdown",
   "metadata": {},
   "source": [
    "## Build a CNN model\n",
    "\n",
    "The architecture of our CNN model\n",
    "\n",
    "- Conv2D layer –  we will add 2 convolutional layers of 32 filters, size of 5*5, and activation as relu\n",
    "- Max Pooling – MaxPool2D with 2*2 layers\n",
    "- Dropout with a rate of 0.25.0\n",
    "- 2 Convolutional layer of 64 filters and size of 3*3\n",
    "- Dropout with a rate of 0.25\n",
    "-  Flattenn layer to squeeze the layers into 1 dimension\n",
    "- Dense, feed-forward neural network(256 nodes, activation=”relu”)\n",
    "- Dropout Layer(0.5)\n",
    "- Dense layer(nodes=46, activation=”softmax”)\n",
    "- MaxPool2D – Maximum pooling layer is used to reduce the size of images\n",
    "- Dropout – Dropout is a regularization technique to reduce overfitting\n",
    "- Flatten – to convert the parrel layers to squeeze the layers\n",
    "- Dense –  for feed-forward neural network\n",
    "the last layer have an activation function as softmax for Multi-class classification."
   ]
  },
  {
   "cell_type": "code",
   "execution_count": 11,
   "metadata": {},
   "outputs": [],
   "source": [
    "model = Sequential()\n",
    "model.add(Conv2D(filters=32, kernel_size=(5,5), activation=\"relu\", input_shape=x_train.shape[1:]))\n",
    "model.add(Conv2D(filters=32, kernel_size=(5,5), activation=\"relu\"))\n",
    "model.add(MaxPool2D(pool_size=(2,2)))\n",
    "model.add(Dropout(rate=0.25))\n",
    "model.add(Conv2D(filters=64, kernel_size=(3,3), activation=\"relu\"))\n",
    "model.add(Conv2D(filters=64, kernel_size=(3,3), activation=\"relu\"))\n",
    "model.add(MaxPool2D(pool_size=(2,2)))\n",
    "model.add(Dropout(rate=0.25))\n",
    "model.add(Flatten())\n",
    "model.add(Dense(256, activation=\"relu\"))\n",
    "model.add(Dropout(rate=0.5))\n",
    "model.add(Dense(43, activation=\"softmax\"))"
   ]
  },
  {
   "cell_type": "markdown",
   "metadata": {},
   "source": [
    "## Train and Validate the Model\n",
    "\n",
    "let’s first compile the model. during compiling we need to describe the loss function and optimizer to use.\n",
    "\n",
    "- Loss Function – to calculate the loss done by model. we will use categorical cross-entropy as we have a multiclass classification problem statement\n",
    "- Optimizer – Optimize to optimize the loss function\n"
   ]
  },
  {
   "cell_type": "code",
   "execution_count": 12,
   "metadata": {},
   "outputs": [],
   "source": [
    "model.compile(loss=\"categorical_crossentropy\", optimizer=\"adam\", metrics=[\"accuracy\"])"
   ]
  },
  {
   "cell_type": "markdown",
   "metadata": {},
   "source": [
    "Let’s fit the train and test data to model and start training the convolutional model. we need to define a number of epochs to train for and batch size to consider while training the model.\n"
   ]
  },
  {
   "cell_type": "code",
   "execution_count": 13,
   "metadata": {},
   "outputs": [
    {
     "name": "stdout",
     "output_type": "stream",
     "text": [
      "Epoch 1/15\n",
      "491/491 [==============================] - 56s 113ms/step - loss: 2.1406 - accuracy: 0.4725 - val_loss: 0.5352 - val_accuracy: 0.8789\n",
      "Epoch 2/15\n",
      "491/491 [==============================] - 61s 124ms/step - loss: 0.5943 - accuracy: 0.8270 - val_loss: 0.1472 - val_accuracy: 0.9676\n",
      "Epoch 3/15\n",
      "491/491 [==============================] - 60s 123ms/step - loss: 0.3560 - accuracy: 0.8986 - val_loss: 0.0753 - val_accuracy: 0.9815\n",
      "Epoch 4/15\n",
      "491/491 [==============================] - 62s 126ms/step - loss: 0.2534 - accuracy: 0.9265 - val_loss: 0.0862 - val_accuracy: 0.9779\n",
      "Epoch 5/15\n",
      "491/491 [==============================] - 60s 123ms/step - loss: 0.2137 - accuracy: 0.9396 - val_loss: 0.0989 - val_accuracy: 0.9750\n",
      "Epoch 6/15\n",
      "491/491 [==============================] - 56s 115ms/step - loss: 0.2149 - accuracy: 0.9399 - val_loss: 0.0479 - val_accuracy: 0.9871\n",
      "Epoch 7/15\n",
      "491/491 [==============================] - 57s 116ms/step - loss: 0.1642 - accuracy: 0.9548 - val_loss: 0.0349 - val_accuracy: 0.9916\n",
      "Epoch 8/15\n",
      "491/491 [==============================] - 58s 119ms/step - loss: 0.1650 - accuracy: 0.9538 - val_loss: 0.0501 - val_accuracy: 0.9860\n",
      "Epoch 9/15\n",
      "491/491 [==============================] - 57s 116ms/step - loss: 0.1511 - accuracy: 0.9577 - val_loss: 0.0378 - val_accuracy: 0.9904\n",
      "Epoch 10/15\n",
      "491/491 [==============================] - 53s 108ms/step - loss: 0.1574 - accuracy: 0.9581 - val_loss: 0.0383 - val_accuracy: 0.9899\n",
      "Epoch 11/15\n",
      "491/491 [==============================] - 63s 129ms/step - loss: 0.1439 - accuracy: 0.9608 - val_loss: 0.0383 - val_accuracy: 0.9906\n",
      "Epoch 12/15\n",
      "491/491 [==============================] - 53s 108ms/step - loss: 0.1299 - accuracy: 0.9648 - val_loss: 0.0272 - val_accuracy: 0.9939\n",
      "Epoch 13/15\n",
      "491/491 [==============================] - 53s 107ms/step - loss: 0.1380 - accuracy: 0.9638 - val_loss: 0.0280 - val_accuracy: 0.9931\n",
      "Epoch 14/15\n",
      "491/491 [==============================] - 54s 111ms/step - loss: 0.1558 - accuracy: 0.9601 - val_loss: 0.0660 - val_accuracy: 0.9816\n",
      "Epoch 15/15\n",
      "491/491 [==============================] - 54s 110ms/step - loss: 0.1286 - accuracy: 0.9672 - val_loss: 0.0335 - val_accuracy: 0.9917\n"
     ]
    }
   ],
   "source": [
    "epochs = 15\n",
    "history = model.fit(x_train, y_train, epochs=epochs, batch_size=64, validation_data=(x_test, y_test))"
   ]
  },
  {
   "cell_type": "markdown",
   "metadata": {},
   "source": [
    "\n",
    "Now let us plot an accuracy and loss graph using Matplotlib."
   ]
  },
  {
   "cell_type": "code",
   "execution_count": 14,
   "metadata": {},
   "outputs": [
    {
     "data": {
      "image/png": "[encoded data removed]",
      "text/plain": [
       "<Figure size 432x288 with 1 Axes>"
      ]
     },
     "metadata": {
      "needs_background": "light"
     },
     "output_type": "display_data"
    },
    {
     "data": {
      "image/png": "[encoded data removed]",
      "text/plain": [
       "<Figure size 432x288 with 1 Axes>"
      ]
     },
     "metadata": {
      "needs_background": "light"
     },
     "output_type": "display_data"
    }
   ],
   "source": [
    "plt.figure(0)\n",
    "plt.plot(history.history['accuracy'], label=\"Training accuracy\")\n",
    "plt.plot(history.history['val_accuracy'], label=\"val accuracy\")\n",
    "plt.title(\"Accuracy\")\n",
    "plt.xlabel(\"epochs\")\n",
    "plt.ylabel(\"accuracy\")\n",
    "plt.legend()\n",
    "plt.figure(1)\n",
    "plt.plot(history.history['loss'], label=\"training loss\")\n",
    "plt.plot(history.history['val_loss'], label=\"val loss\")\n",
    "plt.title(\"Loss\")\n",
    "plt.xlabel(\"epochs\")\n",
    "plt.ylabel(\"Loss\")\n",
    "plt.legend()\n",
    "plt.show()"
   ]
  },
  {
   "cell_type": "markdown",
   "metadata": {},
   "source": [
    "## Test the Model \n",
    "The dataset contains a test folder that has different test images and a test.csv file that contains details related to the image path and respective labels. Again we will load the data using pandas and resize it to the shape of 30*30 pixels and convert it to a NumPy array. After processing test images we will check the accuracy of the model against actual labels"
   ]
  },
  {
   "cell_type": "code",
   "execution_count": 15,
   "metadata": {},
   "outputs": [
    {
     "name": "stdout",
     "output_type": "stream",
     "text": [
      "(12630, 30, 30, 3)\n",
      "accuracy:  0.9679334916864608\n"
     ]
    }
   ],
   "source": [
    "from sklearn.metrics import accuracy_score\n",
    "test = pd.read_csv(\"gtsrb-german-traffic-sign/Test.csv\")\n",
    "test_labels = test['ClassId'].values\n",
    "test_img_path = \"gtsrb-german-traffic-sign\"\n",
    "test_imgs = test['Path'].values\n",
    "\n",
    "test_data = []\n",
    "test_labels = []\n",
    "\n",
    "for img in test_imgs:\n",
    "    im = Image.open(test_img_path + '/' + img)\n",
    "    im = im.resize((30,30))\n",
    "    im = np.array(im)\n",
    "    test_data.append(im)\n",
    "\n",
    "test_data = np.array(test_data)\n",
    "print(test_data.shape)\n",
    "\n",
    "import warnings\n",
    "warnings.filterwarnings(\"ignore\")\n",
    "test_labels = test['ClassId'].values\n",
    "test_labels\n",
    "\n",
    "predictions = model.predict(test_data)\n",
    "classes=np.argmax(predictions,axis=1)\n",
    "\n",
    "print(\"accuracy: \", accuracy_score(test_labels, classes))"
   ]
  },
  {
   "cell_type": "markdown",
   "metadata": {},
   "source": [
    "Save the Model\n",
    "Save the model for future use as well."
   ]
  },
  {
   "cell_type": "code",
   "execution_count": 16,
   "metadata": {},
   "outputs": [],
   "source": [
    "model.save('traffic_classifier.h5')"
   ]
  }
 ],
 "metadata": {
  "interpreter": {
   "hash": "e482a83a3c245c33f98b7100e15d48c920af10125453231b4775ca72b7f04583"
  },
  "kernelspec": {
   "display_name": "Python 3.10.2 ('minimal_ds')",
   "language": "python",
   "name": "python3"
  },
  "language_info": {
   "codemirror_mode": {
    "name": "ipython",
    "version": 3
   },
   "file_extension": ".py",
   "mimetype": "text/x-python",
   "name": "python",
   "nbconvert_exporter": "python",
   "pygments_lexer": "ipython3",
   "version": "3.10.2"
  },
  "orig_nbformat": 4
 },
 "nbformat": 4,
 "nbformat_minor": 2
}
